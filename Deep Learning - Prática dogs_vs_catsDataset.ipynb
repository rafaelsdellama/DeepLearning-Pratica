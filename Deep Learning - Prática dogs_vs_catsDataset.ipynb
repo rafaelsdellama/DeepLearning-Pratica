{
 "cells": [
  {
   "cell_type": "markdown",
   "metadata": {},
   "source": [
    "# dogs_vs_cats Dataset"
   ]
  },
  {
   "cell_type": "markdown",
   "metadata": {},
   "source": [
    "### Importa as funções que vamos utilizar"
   ]
  },
  {
   "cell_type": "code",
   "execution_count": 1,
   "metadata": {},
   "outputs": [],
   "source": [
    "from tensorflow.keras.models import Sequential\n",
    "from tensorflow.keras.layers import Dense, Flatten, Conv2D, MaxPooling2D, Dropout, BatchNormalization\n",
    "from tensorflow.keras.preprocessing.image import ImageDataGenerator\n",
    "\n",
    "from sklearn.metrics import classification_report, confusion_matrix, accuracy_score, balanced_accuracy_score\n",
    "\n",
    "from tensorflow.keras.models import model_from_json\n",
    "import numpy as np\n",
    "from tensorflow.keras.preprocessing import image\n",
    "from matplotlib import pyplot as plt"
   ]
  },
  {
   "cell_type": "markdown",
   "metadata": {},
   "source": [
    "### Criar o modelo\n",
    "Documentação:\n",
    "    - Conv2D: https://keras.io/layers/convolutional/\n",
    "    - MaxPooling2D: https://keras.io/layers/pooling/\n",
    "    - Dense e Flatten: https://keras.io/layers/core/\n",
    "    - compile: https://keras.io/models/sequential/\n",
    "    - Optimizer: https://keras.io/optimizers/"
   ]
  },
  {
   "cell_type": "code",
   "execution_count": 2,
   "metadata": {},
   "outputs": [
    {
     "name": "stdout",
     "output_type": "stream",
     "text": [
      "Model: \"sequential\"\n",
      "_________________________________________________________________\n",
      "Layer (type)                 Output Shape              Param #   \n",
      "=================================================================\n",
      "conv2d (Conv2D)              (None, 222, 222, 32)      896       \n",
      "_________________________________________________________________\n",
      "max_pooling2d (MaxPooling2D) (None, 111, 111, 32)      0         \n",
      "_________________________________________________________________\n",
      "conv2d_1 (Conv2D)            (None, 109, 109, 64)      18496     \n",
      "_________________________________________________________________\n",
      "max_pooling2d_1 (MaxPooling2 (None, 54, 54, 64)        0         \n",
      "_________________________________________________________________\n",
      "flatten (Flatten)            (None, 186624)            0         \n",
      "_________________________________________________________________\n",
      "dense (Dense)                (None, 128)               23888000  \n",
      "_________________________________________________________________\n",
      "dropout (Dropout)            (None, 128)               0         \n",
      "_________________________________________________________________\n",
      "dense_1 (Dense)              (None, 128)               16512     \n",
      "_________________________________________________________________\n",
      "dropout_1 (Dropout)          (None, 128)               0         \n",
      "_________________________________________________________________\n",
      "dense_2 (Dense)              (None, 1)                 129       \n",
      "=================================================================\n",
      "Total params: 23,924,033\n",
      "Trainable params: 23,924,033\n",
      "Non-trainable params: 0\n",
      "_________________________________________________________________\n"
     ]
    }
   ],
   "source": [
    "classificador = Sequential()\n",
    "\n",
    "classificador.add(\n",
    "    Conv2D(\n",
    "        filters=32,\n",
    "        kernel_size=(3,3), \n",
    "        input_shape=(224, 224, 3), \n",
    "        activation = 'relu'\n",
    "    ))\n",
    "\n",
    "classificador.add(\n",
    "    MaxPooling2D(\n",
    "        pool_size=(2,2)\n",
    "    ))\n",
    "\n",
    "classificador.add(\n",
    "    Conv2D(\n",
    "        filters=64,\n",
    "        kernel_size=(3,3), \n",
    "        activation = 'relu'\n",
    "    ))\n",
    "\n",
    "classificador.add(\n",
    "    MaxPooling2D(\n",
    "        pool_size=(2,2)\n",
    "    ))\n",
    "\n",
    "\n",
    "classificador.add(\n",
    "    Flatten())\n",
    "\n",
    "classificador.add(\n",
    "    Dense(\n",
    "        units=128, \n",
    "        activation = 'relu'\n",
    "         ))\n",
    "\n",
    "classificador.add(\n",
    "    Dropout(\n",
    "        rate=0.25\n",
    "    ))\n",
    "\n",
    "classificador.add(\n",
    "    Dense(\n",
    "        units=128, \n",
    "        activation = 'relu'\n",
    "         ))\n",
    "\n",
    "classificador.add(\n",
    "    Dropout(\n",
    "        rate=0.25\n",
    "    ))\n",
    "\n",
    "classificador.add(\n",
    "    Dense(\n",
    "        units = 1, # Número de classes\n",
    "        activation = 'sigmoid'\n",
    "    ))\n",
    "\n",
    "classificador.compile(\n",
    "    loss='binary_crossentropy', # binary_crossentropy porque estamos trabalhando com um problema de 2 classes\n",
    "    optimizer='adam', # sgd ou adam\n",
    "    metrics=['accuracy']\n",
    ")\n",
    "\n",
    "classificador.summary()"
   ]
  },
  {
   "cell_type": "markdown",
   "metadata": {},
   "source": [
    "### Criar o gerador de imagens\n",
    "O Gerador é responsável por ler as imagens e fornecer para nossa rede neural, podendo ou não realziar data augmentation\n",
    "\n",
    "https://keras.io/preprocessing/image/"
   ]
  },
  {
   "cell_type": "code",
   "execution_count": 3,
   "metadata": {},
   "outputs": [],
   "source": [
    "gerador_treinamento = ImageDataGenerator(\n",
    "    rescale = 1./255,\n",
    "    rotation_range = 7,\n",
    "    horizontal_flip = True,\n",
    "    shear_range = 0.2,\n",
    "    height_shift_range = 0.07,\n",
    "    zoom_range = 0.2)\n",
    "\n",
    "gerador_teste = ImageDataGenerator(rescale = 1./255)"
   ]
  },
  {
   "cell_type": "code",
   "execution_count": 4,
   "metadata": {},
   "outputs": [
    {
     "name": "stdout",
     "output_type": "stream",
     "text": [
      "Found 4000 images belonging to 2 classes.\n",
      "Found 1000 images belonging to 2 classes.\n"
     ]
    }
   ],
   "source": [
    "base_treinamento = gerador_treinamento.flow_from_directory(\n",
    "    directory='datasets/dogs_vs_cats/train',\n",
    "    target_size = (224, 224),\n",
    "    batch_size = 128,\n",
    "    class_mode = 'binary',\n",
    "    #save_to_dir='datasets/dogs_vs_cats/augmentation'\n",
    ")\n",
    "\n",
    "base_teste = gerador_teste.flow_from_directory(\n",
    "    directory='datasets/dogs_vs_cats/test',\n",
    "    target_size = (224, 224),\n",
    "    batch_size = 128,\n",
    "    class_mode = 'binary',\n",
    "    shuffle=False)"
   ]
  },
  {
   "cell_type": "markdown",
   "metadata": {},
   "source": [
    "### Treina a rede neural\n",
    "https://keras.io/models/sequential/"
   ]
  },
  {
   "cell_type": "code",
   "execution_count": 5,
   "metadata": {
    "scrolled": false
   },
   "outputs": [
    {
     "name": "stdout",
     "output_type": "stream",
     "text": [
      "WARNING:tensorflow:sample_weight modes were coerced from\n",
      "  ...\n",
      "    to  \n",
      "  ['...']\n",
      "WARNING:tensorflow:sample_weight modes were coerced from\n",
      "  ...\n",
      "    to  \n",
      "  ['...']\n",
      "Train for 32 steps, validate for 8 steps\n",
      "Epoch 1/50\n",
      "32/32 [==============================] - 40s 1s/step - loss: 0.8781 - accuracy: 0.5135 - val_loss: 0.6818 - val_accuracy: 0.5010\n",
      "Epoch 2/50\n",
      "32/32 [==============================] - 38s 1s/step - loss: 0.6673 - accuracy: 0.5750 - val_loss: 0.6578 - val_accuracy: 0.6250\n",
      "Epoch 3/50\n",
      "32/32 [==============================] - 38s 1s/step - loss: 0.6577 - accuracy: 0.6175 - val_loss: 0.6599 - val_accuracy: 0.6250\n",
      "Epoch 4/50\n",
      "32/32 [==============================] - 38s 1s/step - loss: 0.6386 - accuracy: 0.6403 - val_loss: 0.6213 - val_accuracy: 0.6590\n",
      "Epoch 5/50\n",
      "32/32 [==============================] - 38s 1s/step - loss: 0.6074 - accuracy: 0.6787 - val_loss: 0.6078 - val_accuracy: 0.6890\n",
      "Epoch 6/50\n",
      "32/32 [==============================] - 38s 1s/step - loss: 0.5670 - accuracy: 0.7180 - val_loss: 0.5506 - val_accuracy: 0.7310\n",
      "Epoch 7/50\n",
      "32/32 [==============================] - 38s 1s/step - loss: 0.5562 - accuracy: 0.7135 - val_loss: 0.5608 - val_accuracy: 0.7170\n",
      "Epoch 8/50\n",
      "32/32 [==============================] - 38s 1s/step - loss: 0.5438 - accuracy: 0.7283 - val_loss: 0.5507 - val_accuracy: 0.7220\n",
      "Epoch 9/50\n",
      "32/32 [==============================] - 39s 1s/step - loss: 0.5292 - accuracy: 0.7437 - val_loss: 0.5695 - val_accuracy: 0.7010\n",
      "Epoch 10/50\n",
      "32/32 [==============================] - 38s 1s/step - loss: 0.5311 - accuracy: 0.7358 - val_loss: 0.5262 - val_accuracy: 0.7440\n",
      "Epoch 11/50\n",
      "32/32 [==============================] - 38s 1s/step - loss: 0.5077 - accuracy: 0.7530 - val_loss: 0.5159 - val_accuracy: 0.7430\n",
      "Epoch 12/50\n",
      "32/32 [==============================] - 40s 1s/step - loss: 0.4914 - accuracy: 0.7577 - val_loss: 0.5070 - val_accuracy: 0.7610\n",
      "Epoch 13/50\n",
      "32/32 [==============================] - 39s 1s/step - loss: 0.4710 - accuracy: 0.7772 - val_loss: 0.5211 - val_accuracy: 0.7510\n",
      "Epoch 14/50\n",
      "32/32 [==============================] - 40s 1s/step - loss: 0.4674 - accuracy: 0.7828 - val_loss: 0.5078 - val_accuracy: 0.7570\n",
      "Epoch 15/50\n",
      "32/32 [==============================] - 40s 1s/step - loss: 0.4629 - accuracy: 0.7780 - val_loss: 0.5349 - val_accuracy: 0.7490\n",
      "Epoch 16/50\n",
      "32/32 [==============================] - 40s 1s/step - loss: 0.4551 - accuracy: 0.7795 - val_loss: 0.5105 - val_accuracy: 0.7490\n",
      "Epoch 17/50\n",
      "32/32 [==============================] - 40s 1s/step - loss: 0.4420 - accuracy: 0.7908 - val_loss: 0.4989 - val_accuracy: 0.7710\n",
      "Epoch 18/50\n",
      "32/32 [==============================] - 39s 1s/step - loss: 0.4290 - accuracy: 0.7940 - val_loss: 0.5101 - val_accuracy: 0.7580\n",
      "Epoch 19/50\n",
      "32/32 [==============================] - 36s 1s/step - loss: 0.4165 - accuracy: 0.8092 - val_loss: 0.4889 - val_accuracy: 0.7630\n",
      "Epoch 20/50\n",
      "32/32 [==============================] - 36s 1s/step - loss: 0.4111 - accuracy: 0.8170 - val_loss: 0.4851 - val_accuracy: 0.7610\n",
      "Epoch 21/50\n",
      "32/32 [==============================] - 36s 1s/step - loss: 0.4170 - accuracy: 0.8085 - val_loss: 0.4999 - val_accuracy: 0.7690\n",
      "Epoch 22/50\n",
      "32/32 [==============================] - 36s 1s/step - loss: 0.4098 - accuracy: 0.8150 - val_loss: 0.5223 - val_accuracy: 0.7550\n",
      "Epoch 23/50\n",
      "32/32 [==============================] - 39s 1s/step - loss: 0.3983 - accuracy: 0.8192 - val_loss: 0.5238 - val_accuracy: 0.7660\n",
      "Epoch 24/50\n",
      "32/32 [==============================] - 37s 1s/step - loss: 0.4015 - accuracy: 0.8138 - val_loss: 0.5136 - val_accuracy: 0.7700\n",
      "Epoch 25/50\n",
      "32/32 [==============================] - 37s 1s/step - loss: 0.4057 - accuracy: 0.8158 - val_loss: 0.4942 - val_accuracy: 0.7790\n",
      "Epoch 26/50\n",
      "32/32 [==============================] - 38s 1s/step - loss: 0.3842 - accuracy: 0.8242 - val_loss: 0.5062 - val_accuracy: 0.7730\n",
      "Epoch 27/50\n",
      "32/32 [==============================] - 39s 1s/step - loss: 0.3766 - accuracy: 0.8340 - val_loss: 0.5313 - val_accuracy: 0.7660\n",
      "Epoch 28/50\n",
      "32/32 [==============================] - 39s 1s/step - loss: 0.3727 - accuracy: 0.8335 - val_loss: 0.5036 - val_accuracy: 0.7720\n",
      "Epoch 29/50\n",
      "32/32 [==============================] - 37s 1s/step - loss: 0.3573 - accuracy: 0.8320 - val_loss: 0.5326 - val_accuracy: 0.7600\n",
      "Epoch 30/50\n",
      "32/32 [==============================] - 38s 1s/step - loss: 0.3742 - accuracy: 0.8310 - val_loss: 0.4909 - val_accuracy: 0.7760\n",
      "Epoch 31/50\n",
      "32/32 [==============================] - 39s 1s/step - loss: 0.3747 - accuracy: 0.8332 - val_loss: 0.4894 - val_accuracy: 0.7890\n",
      "Epoch 32/50\n",
      "32/32 [==============================] - 39s 1s/step - loss: 0.3533 - accuracy: 0.8450 - val_loss: 0.5266 - val_accuracy: 0.7720\n",
      "Epoch 33/50\n",
      "32/32 [==============================] - 39s 1s/step - loss: 0.3421 - accuracy: 0.8490 - val_loss: 0.5936 - val_accuracy: 0.7630\n",
      "Epoch 34/50\n",
      "32/32 [==============================] - 39s 1s/step - loss: 0.3368 - accuracy: 0.8462 - val_loss: 0.5017 - val_accuracy: 0.7780\n",
      "Epoch 35/50\n",
      "32/32 [==============================] - 36s 1s/step - loss: 0.3405 - accuracy: 0.8543 - val_loss: 0.5395 - val_accuracy: 0.7660\n",
      "Epoch 36/50\n",
      "32/32 [==============================] - 35s 1s/step - loss: 0.3115 - accuracy: 0.8645 - val_loss: 0.5238 - val_accuracy: 0.7780\n",
      "Epoch 37/50\n",
      "32/32 [==============================] - 35s 1s/step - loss: 0.3149 - accuracy: 0.8652 - val_loss: 0.5161 - val_accuracy: 0.7840\n",
      "Epoch 38/50\n",
      "32/32 [==============================] - 35s 1s/step - loss: 0.3068 - accuracy: 0.8683 - val_loss: 0.5493 - val_accuracy: 0.7600\n",
      "Epoch 39/50\n",
      "32/32 [==============================] - 35s 1s/step - loss: 0.3268 - accuracy: 0.8630 - val_loss: 0.5545 - val_accuracy: 0.7630\n",
      "Epoch 40/50\n",
      "32/32 [==============================] - 35s 1s/step - loss: 0.2958 - accuracy: 0.8810 - val_loss: 0.5369 - val_accuracy: 0.7710\n",
      "Epoch 41/50\n",
      "32/32 [==============================] - 35s 1s/step - loss: 0.3070 - accuracy: 0.8645 - val_loss: 0.5692 - val_accuracy: 0.7760\n",
      "Epoch 42/50\n",
      "32/32 [==============================] - 35s 1s/step - loss: 0.2909 - accuracy: 0.8733 - val_loss: 0.5151 - val_accuracy: 0.7880\n",
      "Epoch 43/50\n",
      "32/32 [==============================] - 35s 1s/step - loss: 0.2990 - accuracy: 0.8740 - val_loss: 0.5404 - val_accuracy: 0.7900\n",
      "Epoch 44/50\n",
      "32/32 [==============================] - 36s 1s/step - loss: 0.2754 - accuracy: 0.8848 - val_loss: 0.5729 - val_accuracy: 0.7760\n",
      "Epoch 45/50\n",
      "32/32 [==============================] - 36s 1s/step - loss: 0.2836 - accuracy: 0.8815 - val_loss: 0.5364 - val_accuracy: 0.7670\n",
      "Epoch 46/50\n",
      "32/32 [==============================] - 35s 1s/step - loss: 0.2653 - accuracy: 0.8903 - val_loss: 0.5805 - val_accuracy: 0.7820\n",
      "Epoch 47/50\n",
      "32/32 [==============================] - 35s 1s/step - loss: 0.2774 - accuracy: 0.8770 - val_loss: 0.5780 - val_accuracy: 0.7850\n",
      "Epoch 48/50\n",
      "32/32 [==============================] - 35s 1s/step - loss: 0.2812 - accuracy: 0.8852 - val_loss: 0.5712 - val_accuracy: 0.7780\n",
      "Epoch 49/50\n",
      "32/32 [==============================] - 35s 1s/step - loss: 0.2591 - accuracy: 0.8932 - val_loss: 0.5979 - val_accuracy: 0.7830\n",
      "Epoch 50/50\n",
      "32/32 [==============================] - 35s 1s/step - loss: 0.2528 - accuracy: 0.8938 - val_loss: 0.5636 - val_accuracy: 0.7880\n"
     ]
    }
   ],
   "source": [
    "history = classificador.fit(\n",
    "    x = base_treinamento,\n",
    "    validation_data = base_teste,\n",
    "    epochs = 50\n",
    ")"
   ]
  },
  {
   "cell_type": "code",
   "execution_count": 6,
   "metadata": {},
   "outputs": [
    {
     "data": {
      "image/png": "[encoded data removed]",
      "text/plain": [
       "<Figure size 432x288 with 1 Axes>"
      ]
     },
     "metadata": {
      "needs_background": "light"
     },
     "output_type": "display_data"
    },
    {
     "data": {
      "image/png": "[encoded data removed]",
      "text/plain": [
       "<Figure size 432x288 with 1 Axes>"
      ]
     },
     "metadata": {
      "needs_background": "light"
     },
     "output_type": "display_data"
    }
   ],
   "source": [
    "# summarize history for accuracy\n",
    "plt.plot(history.history['accuracy'])\n",
    "plt.plot(history.history['val_accuracy'])\n",
    "plt.title('model accuracy')\n",
    "plt.ylabel('accuracy')\n",
    "plt.xlabel('epoch')\n",
    "plt.legend(['train', 'test'], loc='upper left')\n",
    "plt.show()\n",
    "# summarize history for loss\n",
    "plt.plot(history.history['loss'])\n",
    "plt.plot(history.history['val_loss'])\n",
    "plt.title('model loss')\n",
    "plt.ylabel('loss')\n",
    "plt.xlabel('epoch')\n",
    "plt.legend(['train', 'test'], loc='upper left')\n",
    "plt.show()"
   ]
  },
  {
   "cell_type": "markdown",
   "metadata": {},
   "source": [
    "### Avaliar o modelo"
   ]
  },
  {
   "cell_type": "code",
   "execution_count": 7,
   "metadata": {},
   "outputs": [
    {
     "name": "stdout",
     "output_type": "stream",
     "text": [
      "Probabilidade da primeira imagem pertencer a cada classe: [0.02790158]\n",
      "Classe da primeira imagem: [0.]\n",
      "\n",
      "\n"
     ]
    }
   ],
   "source": [
    "# Reinicia o gerador de imagem de teste \n",
    "base_teste.reset()\n",
    "\n",
    "# Faz a previsão dsa imagens de teste usando o modelo\n",
    "previsao = classificador.predict(base_teste)\n",
    "print(f\"Probabilidade da primeira imagem pertencer a cada classe: {previsao[0]}\")\n",
    "\n",
    "# Retorna a classe com maior probabilidade\n",
    "previsao = np.around(previsao)\n",
    "print(f\"Classe da primeira imagem: {previsao[0]}\\n\\n\")"
   ]
  },
  {
   "cell_type": "code",
   "execution_count": 8,
   "metadata": {},
   "outputs": [
    {
     "name": "stdout",
     "output_type": "stream",
     "text": [
      "Confusion Matrix\n",
      "[[395 105]\n",
      " [107 393]]\n",
      "\n",
      "Accuracy 0.788\n",
      "\n",
      "Balanced Accuracy 0.788\n",
      "\n",
      "Classification Report\n",
      "              precision    recall  f1-score   support\n",
      "\n",
      "         cat       0.79      0.79      0.79       500\n",
      "         dog       0.79      0.79      0.79       500\n",
      "\n",
      "   micro avg       0.79      0.79      0.79      1000\n",
      "   macro avg       0.79      0.79      0.79      1000\n",
      "weighted avg       0.79      0.79      0.79      1000\n",
      "\n"
     ]
    }
   ],
   "source": [
    "print('Confusion Matrix')\n",
    "print(confusion_matrix(base_teste.classes, previsao))\n",
    "\n",
    "print(f'\\nAccuracy {accuracy_score(base_teste.classes, previsao)}')\n",
    "\n",
    "print(f'\\nBalanced Accuracy {balanced_accuracy_score(base_teste.classes, previsao)}')\n",
    "\n",
    "print('\\nClassification Report')\n",
    "print(classification_report(base_teste.classes, previsao, target_names=base_treinamento.class_indices.keys()))"
   ]
  },
  {
   "cell_type": "markdown",
   "metadata": {},
   "source": [
    "### Salvar a rede neural"
   ]
  },
  {
   "cell_type": "code",
   "execution_count": 9,
   "metadata": {},
   "outputs": [],
   "source": [
    "classificador_json = classificador.to_json()\n",
    "with open('classificador_dog_cat.json', 'w') as json_file:\n",
    "    json_file.write(classificador_json)\n",
    "classificador.save_weights('classificador_dog_cat.h5')"
   ]
  },
  {
   "cell_type": "markdown",
   "metadata": {},
   "source": [
    "### Ler a rede neural salva"
   ]
  },
  {
   "cell_type": "code",
   "execution_count": 10,
   "metadata": {},
   "outputs": [],
   "source": [
    "arquivo = open('classificador_dog_cat.json', 'r')\n",
    "estrutura_rede = arquivo.read()\n",
    "arquivo.close()\n",
    "\n",
    "classificador = model_from_json(estrutura_rede)\n",
    "classificador.load_weights('classificador_dog_cat.h5')"
   ]
  },
  {
   "cell_type": "code",
   "execution_count": 11,
   "metadata": {},
   "outputs": [
    {
     "name": "stdout",
     "output_type": "stream",
     "text": [
      "Model: \"sequential\"\n",
      "_________________________________________________________________\n",
      "Layer (type)                 Output Shape              Param #   \n",
      "=================================================================\n",
      "conv2d (Conv2D)              (None, 222, 222, 32)      896       \n",
      "_________________________________________________________________\n",
      "max_pooling2d (MaxPooling2D) (None, 111, 111, 32)      0         \n",
      "_________________________________________________________________\n",
      "conv2d_1 (Conv2D)            (None, 109, 109, 64)      18496     \n",
      "_________________________________________________________________\n",
      "max_pooling2d_1 (MaxPooling2 (None, 54, 54, 64)        0         \n",
      "_________________________________________________________________\n",
      "flatten (Flatten)            (None, 186624)            0         \n",
      "_________________________________________________________________\n",
      "dense (Dense)                (None, 128)               23888000  \n",
      "_________________________________________________________________\n",
      "dropout (Dropout)            (None, 128)               0         \n",
      "_________________________________________________________________\n",
      "dense_1 (Dense)              (None, 128)               16512     \n",
      "_________________________________________________________________\n",
      "dropout_1 (Dropout)          (None, 128)               0         \n",
      "_________________________________________________________________\n",
      "dense_2 (Dense)              (None, 1)                 129       \n",
      "=================================================================\n",
      "Total params: 23,924,033\n",
      "Trainable params: 23,924,033\n",
      "Non-trainable params: 0\n",
      "_________________________________________________________________\n"
     ]
    }
   ],
   "source": [
    "classificador.summary()"
   ]
  },
  {
   "cell_type": "markdown",
   "metadata": {},
   "source": [
    "### Testar com uma imagem nova"
   ]
  },
  {
   "cell_type": "code",
   "execution_count": 12,
   "metadata": {},
   "outputs": [
    {
     "name": "stdout",
     "output_type": "stream",
     "text": [
      "[[0.281416]]\n",
      "0\n"
     ]
    },
    {
     "data": {
      "text/plain": [
       "{'cat': 0, 'dog': 1}"
      ]
     },
     "execution_count": 12,
     "metadata": {},
     "output_type": "execute_result"
    }
   ],
   "source": [
    "## Ler a imagem\n",
    "\n",
    "imagem_teste = image.load_img(\n",
    "    path='datasets/dogs_vs_cats/test/dog/dog.3500.jpg',\n",
    "    target_size = (224,224)\n",
    ")\n",
    "\n",
    "#imagem_teste.show()\n",
    "\n",
    "## Converter para matriz de números\n",
    "imagem_teste = image.img_to_array(imagem_teste)\n",
    "\n",
    "## Deixar os valores dos pixels [0,1], igual feito no rescale do ImageDataGenerator\n",
    "imagem_teste /= 255\n",
    "imagem_teste = np.expand_dims(imagem_teste, axis = 0)\n",
    "\n",
    "previsao = classificador.predict(imagem_teste)\n",
    "print(previsao)\n",
    "print(np.argmax(previsao))\n",
    "\n",
    "base_treinamento.class_indices"
   ]
  },
  {
   "cell_type": "code",
   "execution_count": null,
   "metadata": {},
   "outputs": [],
   "source": []
  }
 ],
 "metadata": {
  "kernelspec": {
   "display_name": "Python 3",
   "language": "python",
   "name": "python3"
  },
  "language_info": {
   "codemirror_mode": {
    "name": "ipython",
    "version": 3
   },
   "file_extension": ".py",
   "mimetype": "text/x-python",
   "name": "python",
   "nbconvert_exporter": "python",
   "pygments_lexer": "ipython3",
   "version": "3.7.6"
  }
 },
 "nbformat": 4,
 "nbformat_minor": 4
}
