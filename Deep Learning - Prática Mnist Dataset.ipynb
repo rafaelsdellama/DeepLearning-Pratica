{
 "cells": [
  {
   "cell_type": "markdown",
   "metadata": {},
   "source": [
    "# Mnist Dataset"
   ]
  },
  {
   "cell_type": "markdown",
   "metadata": {},
   "source": [
    "### Importa as funções que vamos utilizar"
   ]
  },
  {
   "cell_type": "code",
   "execution_count": 1,
   "metadata": {},
   "outputs": [],
   "source": [
    "from tensorflow.keras.models import Sequential\n",
    "from tensorflow.keras.layers import Dense, Flatten, Conv2D, MaxPooling2D, Dropout, BatchNormalization\n",
    "from tensorflow.keras.preprocessing.image import ImageDataGenerator\n",
    "\n",
    "from sklearn.metrics import classification_report, confusion_matrix, accuracy_score, balanced_accuracy_score\n",
    "\n",
    "from tensorflow.keras.models import model_from_json\n",
    "import numpy as np\n",
    "from tensorflow.keras.preprocessing import image\n",
    "from matplotlib import pyplot as plt"
   ]
  },
  {
   "cell_type": "markdown",
   "metadata": {},
   "source": [
    "### Criar o modelo\n",
    "Documentação:\n",
    "    - Conv2D: https://keras.io/layers/convolutional/\n",
    "    - MaxPooling2D: https://keras.io/layers/pooling/\n",
    "    - Dense e Flatten: https://keras.io/layers/core/\n",
    "    - compile: https://keras.io/models/sequential/\n",
    "    - Optimizer: https://keras.io/optimizers/"
   ]
  },
  {
   "cell_type": "code",
   "execution_count": 2,
   "metadata": {},
   "outputs": [
    {
     "name": "stdout",
     "output_type": "stream",
     "text": [
      "Model: \"sequential\"\n",
      "_________________________________________________________________\n",
      "Layer (type)                 Output Shape              Param #   \n",
      "=================================================================\n",
      "conv2d (Conv2D)              (None, 26, 26, 32)        320       \n",
      "_________________________________________________________________\n",
      "batch_normalization (BatchNo (None, 26, 26, 32)        128       \n",
      "_________________________________________________________________\n",
      "max_pooling2d (MaxPooling2D) (None, 13, 13, 32)        0         \n",
      "_________________________________________________________________\n",
      "conv2d_1 (Conv2D)            (None, 11, 11, 32)        9248      \n",
      "_________________________________________________________________\n",
      "batch_normalization_1 (Batch (None, 11, 11, 32)        128       \n",
      "_________________________________________________________________\n",
      "max_pooling2d_1 (MaxPooling2 (None, 5, 5, 32)          0         \n",
      "_________________________________________________________________\n",
      "flatten (Flatten)            (None, 800)               0         \n",
      "_________________________________________________________________\n",
      "dense (Dense)                (None, 128)               102528    \n",
      "_________________________________________________________________\n",
      "dropout (Dropout)            (None, 128)               0         \n",
      "_________________________________________________________________\n",
      "dense_1 (Dense)              (None, 128)               16512     \n",
      "_________________________________________________________________\n",
      "dropout_1 (Dropout)          (None, 128)               0         \n",
      "_________________________________________________________________\n",
      "dense_2 (Dense)              (None, 10)                1290      \n",
      "=================================================================\n",
      "Total params: 130,154\n",
      "Trainable params: 130,026\n",
      "Non-trainable params: 128\n",
      "_________________________________________________________________\n"
     ]
    }
   ],
   "source": [
    "classificador = Sequential()\n",
    "\n",
    "classificador.add(\n",
    "    Conv2D(\n",
    "        filters=32,\n",
    "        kernel_size=(3,3), \n",
    "        input_shape=(28, 28, 1), \n",
    "        activation = 'relu'\n",
    "    ))\n",
    "\n",
    "classificador.add(\n",
    "    BatchNormalization())\n",
    "\n",
    "classificador.add(\n",
    "    MaxPooling2D(\n",
    "        pool_size=(2,2)\n",
    "    ))\n",
    "\n",
    "classificador.add(\n",
    "    Conv2D(\n",
    "        filters=32,\n",
    "        kernel_size=(3,3), \n",
    "        input_shape=(28, 28, 1), \n",
    "        activation = 'relu'\n",
    "    ))\n",
    "\n",
    "classificador.add(\n",
    "    BatchNormalization())\n",
    "\n",
    "classificador.add(\n",
    "    MaxPooling2D(\n",
    "        pool_size=(2,2)\n",
    "    ))\n",
    "\n",
    "classificador.add(\n",
    "    Flatten())\n",
    "\n",
    "classificador.add(\n",
    "    Dense(\n",
    "        units=128, \n",
    "        activation = 'relu'\n",
    "         ))\n",
    "\n",
    "classificador.add(\n",
    "    Dropout(\n",
    "        rate=0.2\n",
    "    ))\n",
    "\n",
    "classificador.add(\n",
    "    Dense(\n",
    "        units=128, \n",
    "        activation = 'relu'\n",
    "         ))\n",
    "\n",
    "classificador.add(\n",
    "    Dropout(\n",
    "        rate=0.2\n",
    "    ))\n",
    "\n",
    "classificador.add(\n",
    "    Dense(\n",
    "        units = 10, # Número de classes\n",
    "        activation = 'softmax'\n",
    "    ))\n",
    "\n",
    "classificador.compile(\n",
    "    loss='categorical_crossentropy', # categorical_crossentropy porque estamos trabalhando com um problema de mais de 2 classes\n",
    "    optimizer='adam', # sgd ou adam\n",
    "    metrics=['accuracy']\n",
    ")\n",
    "\n",
    "classificador.summary()"
   ]
  },
  {
   "cell_type": "markdown",
   "metadata": {},
   "source": [
    "### Criar o gerador de imagens\n",
    "O Gerador é responsável por ler as imagens e fornecer para nossa rede neural, podendo ou não realziar data augmentation\n",
    "\n",
    "https://keras.io/preprocessing/image/"
   ]
  },
  {
   "cell_type": "code",
   "execution_count": 3,
   "metadata": {},
   "outputs": [],
   "source": [
    "gerador_treinamento = ImageDataGenerator(\n",
    "    rescale = 1./255,\n",
    "    rotation_range = 7,\n",
    "    horizontal_flip = True,\n",
    "    shear_range = 0.2,\n",
    "    height_shift_range = 0.07,\n",
    "    zoom_range = 0.2)\n",
    "\n",
    "gerador_teste = ImageDataGenerator(rescale = 1./255)"
   ]
  },
  {
   "cell_type": "code",
   "execution_count": 4,
   "metadata": {},
   "outputs": [
    {
     "name": "stdout",
     "output_type": "stream",
     "text": [
      "Found 60000 images belonging to 10 classes.\n",
      "Found 10000 images belonging to 10 classes.\n"
     ]
    }
   ],
   "source": [
    "base_treinamento = gerador_treinamento.flow_from_directory(\n",
    "    directory='datasets/mnist/train',\n",
    "    target_size = (28, 28),\n",
    "    batch_size = 1024,\n",
    "    color_mode='grayscale',\n",
    "    class_mode='categorical'\n",
    ")\n",
    "\n",
    "base_teste = gerador_teste.flow_from_directory(\n",
    "    directory='datasets/mnist/test',\n",
    "    target_size = (28, 28),\n",
    "    batch_size = 1024,\n",
    "    color_mode='grayscale',\n",
    "    class_mode='categorical',\n",
    "    shuffle=False\n",
    ")"
   ]
  },
  {
   "cell_type": "markdown",
   "metadata": {},
   "source": [
    "### Treina a rede neural\n",
    "https://keras.io/models/sequential/"
   ]
  },
  {
   "cell_type": "code",
   "execution_count": 5,
   "metadata": {},
   "outputs": [
    {
     "name": "stdout",
     "output_type": "stream",
     "text": [
      "WARNING:tensorflow:sample_weight modes were coerced from\n",
      "  ...\n",
      "    to  \n",
      "  ['...']\n",
      "WARNING:tensorflow:sample_weight modes were coerced from\n",
      "  ...\n",
      "    to  \n",
      "  ['...']\n",
      "Train for 59 steps, validate for 10 steps\n",
      "Epoch 1/20\n",
      "59/59 [==============================] - 68s 1s/step - loss: 0.9866 - accuracy: 0.6726 - val_loss: 2.0404 - val_accuracy: 0.1860\n",
      "Epoch 2/20\n",
      "59/59 [==============================] - 40s 686ms/step - loss: 0.3462 - accuracy: 0.8902 - val_loss: 2.6357 - val_accuracy: 0.1475\n",
      "Epoch 3/20\n",
      "59/59 [==============================] - 26s 438ms/step - loss: 0.2284 - accuracy: 0.9294 - val_loss: 3.4264 - val_accuracy: 0.1390\n",
      "Epoch 4/20\n",
      "59/59 [==============================] - 26s 444ms/step - loss: 0.1830 - accuracy: 0.9443 - val_loss: 2.9235 - val_accuracy: 0.2191\n",
      "Epoch 5/20\n",
      "59/59 [==============================] - 26s 443ms/step - loss: 0.1542 - accuracy: 0.9531 - val_loss: 2.4514 - val_accuracy: 0.3285\n",
      "Epoch 6/20\n",
      "59/59 [==============================] - 26s 437ms/step - loss: 0.1355 - accuracy: 0.9582 - val_loss: 0.9524 - val_accuracy: 0.6757\n",
      "Epoch 7/20\n",
      "59/59 [==============================] - 26s 439ms/step - loss: 0.1237 - accuracy: 0.9624 - val_loss: 0.3170 - val_accuracy: 0.8961\n",
      "Epoch 8/20\n",
      "59/59 [==============================] - 26s 443ms/step - loss: 0.1122 - accuracy: 0.9674 - val_loss: 0.1572 - val_accuracy: 0.9504\n",
      "Epoch 9/20\n",
      "59/59 [==============================] - 26s 437ms/step - loss: 0.1064 - accuracy: 0.9681 - val_loss: 0.0555 - val_accuracy: 0.9822\n",
      "Epoch 10/20\n",
      "59/59 [==============================] - 26s 440ms/step - loss: 0.0965 - accuracy: 0.9705 - val_loss: 0.0664 - val_accuracy: 0.9795\n",
      "Epoch 11/20\n",
      "59/59 [==============================] - 26s 443ms/step - loss: 0.0935 - accuracy: 0.9718 - val_loss: 0.0425 - val_accuracy: 0.9861\n",
      "Epoch 12/20\n",
      "59/59 [==============================] - 26s 443ms/step - loss: 0.0886 - accuracy: 0.9724 - val_loss: 0.0428 - val_accuracy: 0.9864\n",
      "Epoch 13/20\n",
      "59/59 [==============================] - 26s 439ms/step - loss: 0.0869 - accuracy: 0.9744 - val_loss: 0.0509 - val_accuracy: 0.9859\n",
      "Epoch 14/20\n",
      "59/59 [==============================] - 26s 439ms/step - loss: 0.0835 - accuracy: 0.9752 - val_loss: 0.0418 - val_accuracy: 0.9852\n",
      "Epoch 15/20\n",
      "59/59 [==============================] - 26s 441ms/step - loss: 0.0791 - accuracy: 0.9756 - val_loss: 0.0481 - val_accuracy: 0.9842\n",
      "Epoch 16/20\n",
      "59/59 [==============================] - 26s 436ms/step - loss: 0.0750 - accuracy: 0.9768 - val_loss: 0.0435 - val_accuracy: 0.9861\n",
      "Epoch 17/20\n",
      "59/59 [==============================] - 26s 444ms/step - loss: 0.0766 - accuracy: 0.9769 - val_loss: 0.0354 - val_accuracy: 0.9888\n",
      "Epoch 18/20\n",
      "59/59 [==============================] - 26s 443ms/step - loss: 0.0733 - accuracy: 0.9776 - val_loss: 0.0573 - val_accuracy: 0.9824\n",
      "Epoch 19/20\n",
      "59/59 [==============================] - 26s 440ms/step - loss: 0.0665 - accuracy: 0.9801 - val_loss: 0.0606 - val_accuracy: 0.9813\n",
      "Epoch 20/20\n",
      "59/59 [==============================] - 26s 439ms/step - loss: 0.0684 - accuracy: 0.9789 - val_loss: 0.0374 - val_accuracy: 0.9893\n"
     ]
    }
   ],
   "source": [
    "history = classificador.fit(\n",
    "    x = base_treinamento,\n",
    "    validation_data = base_teste,\n",
    "    epochs = 20,\n",
    "    verbose = 1\n",
    ")"
   ]
  },
  {
   "cell_type": "code",
   "execution_count": 6,
   "metadata": {},
   "outputs": [
    {
     "data": {
      "image/png": "[encoded data removed]",
      "text/plain": [
       "<Figure size 432x288 with 1 Axes>"
      ]
     },
     "metadata": {
      "needs_background": "light"
     },
     "output_type": "display_data"
    },
    {
     "data": {
      "image/png": "[encoded data removed]",
      "text/plain": [
       "<Figure size 432x288 with 1 Axes>"
      ]
     },
     "metadata": {
      "needs_background": "light"
     },
     "output_type": "display_data"
    }
   ],
   "source": [
    "# summarize history for accuracy\n",
    "plt.plot(history.history['accuracy'])\n",
    "plt.plot(history.history['val_accuracy'])\n",
    "plt.title('model accuracy')\n",
    "plt.ylabel('accuracy')\n",
    "plt.xlabel('epoch')\n",
    "plt.legend(['train', 'test'], loc='upper left')\n",
    "plt.show()\n",
    "# summarize history for loss\n",
    "plt.plot(history.history['loss'])\n",
    "plt.plot(history.history['val_loss'])\n",
    "plt.title('model loss')\n",
    "plt.ylabel('loss')\n",
    "plt.xlabel('epoch')\n",
    "plt.legend(['train', 'test'], loc='upper left')\n",
    "plt.show()"
   ]
  },
  {
   "cell_type": "markdown",
   "metadata": {},
   "source": [
    "### Avaliar o modelo"
   ]
  },
  {
   "cell_type": "code",
   "execution_count": 7,
   "metadata": {},
   "outputs": [
    {
     "name": "stdout",
     "output_type": "stream",
     "text": [
      "Probabilidade da primeira imagem pertencer a cada classe: [9.9999368e-01 6.3454603e-11 2.0945905e-08 4.2229827e-11 3.3129968e-10\n",
      " 2.9251555e-09 1.4487068e-08 5.5521053e-08 1.0605559e-08 6.1359056e-06]\n",
      "Classe da primeira imagem: 0\n",
      "\n",
      "\n"
     ]
    }
   ],
   "source": [
    "# Reinicia o gerador de imagem de teste \n",
    "base_teste.reset()\n",
    "\n",
    "# Faz a previsão dsa imagens de teste usando o modelo\n",
    "previsao = classificador.predict(base_teste)\n",
    "print(f\"Probabilidade da primeira imagem pertencer a cada classe: {previsao[0]}\")\n",
    "\n",
    "# Retorna a classe com maior probabilidade\n",
    "previsao = np.argmax(previsao, axis=1)\n",
    "print(f\"Classe da primeira imagem: {previsao[0]}\\n\\n\")"
   ]
  },
  {
   "cell_type": "code",
   "execution_count": 8,
   "metadata": {},
   "outputs": [
    {
     "name": "stdout",
     "output_type": "stream",
     "text": [
      "Confusion Matrix\n",
      "[[ 975    0    1    0    0    0    1    2    0    1]\n",
      " [   0 1122    3    0    3    0    2    2    3    0]\n",
      " [   1    0 1020    0    2    3    2    3    1    0]\n",
      " [   0    0    1 1003    0    4    0    0    2    0]\n",
      " [   0    0    0    0  977    0    0    1    2    2]\n",
      " [   0    0    4    2    0  881    2    2    1    0]\n",
      " [   0    1    5    0    1    4  946    0    1    0]\n",
      " [   0    0    5    1    1    2    0 1019    0    0]\n",
      " [   0    0    2    2    0    0    0    0  969    1]\n",
      " [   1    0    1    1    8    4    1    4    8  981]]\n",
      "\n",
      "Accuracy 0.9893\n",
      "\n",
      "Balanced Accuracy 0.9893297448542133\n",
      "\n",
      "Classification Report\n",
      "              precision    recall  f1-score   support\n",
      "\n",
      "           0       1.00      0.99      1.00       980\n",
      "           1       1.00      0.99      0.99      1135\n",
      "           2       0.98      0.99      0.98      1032\n",
      "           3       0.99      0.99      0.99      1010\n",
      "           4       0.98      0.99      0.99       982\n",
      "           5       0.98      0.99      0.98       892\n",
      "           6       0.99      0.99      0.99       958\n",
      "           7       0.99      0.99      0.99      1028\n",
      "           8       0.98      0.99      0.99       974\n",
      "           9       1.00      0.97      0.98      1009\n",
      "\n",
      "   micro avg       0.99      0.99      0.99     10000\n",
      "   macro avg       0.99      0.99      0.99     10000\n",
      "weighted avg       0.99      0.99      0.99     10000\n",
      "\n"
     ]
    }
   ],
   "source": [
    "print('Confusion Matrix')\n",
    "print(confusion_matrix(base_teste.classes, previsao))\n",
    "\n",
    "print(f'\\nAccuracy {accuracy_score(base_teste.classes, previsao)}')\n",
    "\n",
    "print(f'\\nBalanced Accuracy {balanced_accuracy_score(base_teste.classes, previsao)}')\n",
    "\n",
    "print('\\nClassification Report')\n",
    "print(classification_report(base_teste.classes, previsao, target_names=base_treinamento.class_indices.keys()))"
   ]
  },
  {
   "cell_type": "markdown",
   "metadata": {},
   "source": [
    "### Salvar a rede neural"
   ]
  },
  {
   "cell_type": "code",
   "execution_count": 9,
   "metadata": {},
   "outputs": [],
   "source": [
    "classificador_json = classificador.to_json()\n",
    "with open('classificador_mnist.json', 'w') as json_file:\n",
    "    json_file.write(classificador_json)\n",
    "classificador.save_weights('classificador_mnist.h5')"
   ]
  },
  {
   "cell_type": "markdown",
   "metadata": {},
   "source": [
    "### Ler a rede neural salva"
   ]
  },
  {
   "cell_type": "code",
   "execution_count": 10,
   "metadata": {},
   "outputs": [],
   "source": [
    "arquivo = open('classificador_mnist.json', 'r')\n",
    "estrutura_rede = arquivo.read()\n",
    "arquivo.close()\n",
    "\n",
    "classificador = model_from_json(estrutura_rede)\n",
    "classificador.load_weights('classificador_mnist.h5')"
   ]
  },
  {
   "cell_type": "code",
   "execution_count": 11,
   "metadata": {},
   "outputs": [
    {
     "name": "stdout",
     "output_type": "stream",
     "text": [
      "Model: \"sequential\"\n",
      "_________________________________________________________________\n",
      "Layer (type)                 Output Shape              Param #   \n",
      "=================================================================\n",
      "conv2d (Conv2D)              (None, 26, 26, 32)        320       \n",
      "_________________________________________________________________\n",
      "batch_normalization (BatchNo (None, 26, 26, 32)        128       \n",
      "_________________________________________________________________\n",
      "max_pooling2d (MaxPooling2D) (None, 13, 13, 32)        0         \n",
      "_________________________________________________________________\n",
      "conv2d_1 (Conv2D)            (None, 11, 11, 32)        9248      \n",
      "_________________________________________________________________\n",
      "batch_normalization_1 (Batch (None, 11, 11, 32)        128       \n",
      "_________________________________________________________________\n",
      "max_pooling2d_1 (MaxPooling2 (None, 5, 5, 32)          0         \n",
      "_________________________________________________________________\n",
      "flatten (Flatten)            (None, 800)               0         \n",
      "_________________________________________________________________\n",
      "dense (Dense)                (None, 128)               102528    \n",
      "_________________________________________________________________\n",
      "dropout (Dropout)            (None, 128)               0         \n",
      "_________________________________________________________________\n",
      "dense_1 (Dense)              (None, 128)               16512     \n",
      "_________________________________________________________________\n",
      "dropout_1 (Dropout)          (None, 128)               0         \n",
      "_________________________________________________________________\n",
      "dense_2 (Dense)              (None, 10)                1290      \n",
      "=================================================================\n",
      "Total params: 130,154\n",
      "Trainable params: 130,026\n",
      "Non-trainable params: 128\n",
      "_________________________________________________________________\n"
     ]
    }
   ],
   "source": [
    "classificador.summary()"
   ]
  },
  {
   "cell_type": "markdown",
   "metadata": {},
   "source": [
    "### Testar com uma imagem nova"
   ]
  },
  {
   "cell_type": "code",
   "execution_count": 12,
   "metadata": {},
   "outputs": [
    {
     "name": "stdout",
     "output_type": "stream",
     "text": [
      "[[9.9316275e-01 7.5305553e-07 3.1294494e-05 1.0923439e-05 6.2324287e-04\n",
      "  2.3649371e-05 4.8594340e-03 2.5806239e-06 6.0066661e-05 1.2253090e-03]]\n",
      "0\n"
     ]
    },
    {
     "name": "stderr",
     "output_type": "stream",
     "text": [
      "C:\\ProgramData\\Anaconda3\\envs\\PythonGPU\\lib\\site-packages\\keras_preprocessing\\image\\utils.py:104: UserWarning: grayscale is deprecated. Please use color_mode = \"grayscale\"\n",
      "  warnings.warn('grayscale is deprecated. Please use '\n"
     ]
    },
    {
     "data": {
      "text/plain": [
       "{'0': 0,\n",
       " '1': 1,\n",
       " '2': 2,\n",
       " '3': 3,\n",
       " '4': 4,\n",
       " '5': 5,\n",
       " '6': 6,\n",
       " '7': 7,\n",
       " '8': 8,\n",
       " '9': 9}"
      ]
     },
     "execution_count": 12,
     "metadata": {},
     "output_type": "execute_result"
    }
   ],
   "source": [
    "## Ler a imagem\n",
    "\n",
    "imagem_teste = image.load_img(\n",
    "    path='datasets/mnist/test/0/3.png',\n",
    "    grayscale=True,\n",
    "    target_size = (28,28)\n",
    ")\n",
    "## Converter para matriz de números\n",
    "imagem_teste = image.img_to_array(imagem_teste)\n",
    "\n",
    "## Deixar os valores dos pixels [0,1], igual feito no rescale do ImageDataGenerator\n",
    "imagem_teste /= 255\n",
    "imagem_teste = np.expand_dims(imagem_teste, axis = 0)\n",
    "\n",
    "previsao = classificador.predict(imagem_teste)\n",
    "print(previsao)\n",
    "print(np.argmax(previsao))\n",
    "\n",
    "base_treinamento.class_indices"
   ]
  }
 ],
 "metadata": {
  "kernelspec": {
   "display_name": "Python 3",
   "language": "python",
   "name": "python3"
  },
  "language_info": {
   "codemirror_mode": {
    "name": "ipython",
    "version": 3
   },
   "file_extension": ".py",
   "mimetype": "text/x-python",
   "name": "python",
   "nbconvert_exporter": "python",
   "pygments_lexer": "ipython3",
   "version": "3.7.6"
  }
 },
 "nbformat": 4,
 "nbformat_minor": 4
}
