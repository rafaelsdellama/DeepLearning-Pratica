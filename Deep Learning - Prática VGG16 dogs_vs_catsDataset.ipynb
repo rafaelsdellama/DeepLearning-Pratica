{
 "cells": [
  {
   "cell_type": "markdown",
   "metadata": {},
   "source": [
    "# dogs_vs_cats Dataset\n",
    "\n",
    "- Modelo pré-treinados: https://keras.io/applications/"
   ]
  },
  {
   "cell_type": "markdown",
   "metadata": {},
   "source": [
    "### Importa as funções que vamos utilizar"
   ]
  },
  {
   "cell_type": "code",
   "execution_count": 1,
   "metadata": {},
   "outputs": [],
   "source": [
    "from tensorflow.keras.models import Sequential\n",
    "from tensorflow.keras.layers import Dense, Flatten, Conv2D, MaxPooling2D, Dropout, BatchNormalization\n",
    "from tensorflow.keras.applications.vgg16 import VGG16\n",
    "from tensorflow.keras.models import Model\n",
    "from tensorflow.keras.preprocessing.image import ImageDataGenerator\n",
    "\n",
    "from sklearn.metrics import classification_report, confusion_matrix, accuracy_score, balanced_accuracy_score\n",
    "\n",
    "from tensorflow.keras.models import model_from_json\n",
    "import numpy as np\n",
    "from tensorflow.keras.preprocessing import image\n",
    "from matplotlib import pyplot as plt"
   ]
  },
  {
   "cell_type": "markdown",
   "metadata": {},
   "source": [
    "### Criar o modelo\n",
    "Documentação:\n",
    "    - Conv2D: https://keras.io/layers/convolutional/\n",
    "    - MaxPooling2D: https://keras.io/layers/pooling/\n",
    "    - Dense e Flatten: https://keras.io/layers/core/\n",
    "    - compile: https://keras.io/models/sequential/\n",
    "    - Optimizer: https://keras.io/optimizers/"
   ]
  },
  {
   "cell_type": "code",
   "execution_count": 2,
   "metadata": {},
   "outputs": [
    {
     "name": "stdout",
     "output_type": "stream",
     "text": [
      "Model: \"model\"\n",
      "_________________________________________________________________\n",
      "Layer (type)                 Output Shape              Param #   \n",
      "=================================================================\n",
      "input_1 (InputLayer)         [(None, 224, 224, 3)]     0         \n",
      "_________________________________________________________________\n",
      "block1_conv1 (Conv2D)        (None, 224, 224, 64)      1792      \n",
      "_________________________________________________________________\n",
      "block1_conv2 (Conv2D)        (None, 224, 224, 64)      36928     \n",
      "_________________________________________________________________\n",
      "block1_pool (MaxPooling2D)   (None, 112, 112, 64)      0         \n",
      "_________________________________________________________________\n",
      "block2_conv1 (Conv2D)        (None, 112, 112, 128)     73856     \n",
      "_________________________________________________________________\n",
      "block2_conv2 (Conv2D)        (None, 112, 112, 128)     147584    \n",
      "_________________________________________________________________\n",
      "block2_pool (MaxPooling2D)   (None, 56, 56, 128)       0         \n",
      "_________________________________________________________________\n",
      "block3_conv1 (Conv2D)        (None, 56, 56, 256)       295168    \n",
      "_________________________________________________________________\n",
      "block3_conv2 (Conv2D)        (None, 56, 56, 256)       590080    \n",
      "_________________________________________________________________\n",
      "block3_conv3 (Conv2D)        (None, 56, 56, 256)       590080    \n",
      "_________________________________________________________________\n",
      "block3_pool (MaxPooling2D)   (None, 28, 28, 256)       0         \n",
      "_________________________________________________________________\n",
      "block4_conv1 (Conv2D)        (None, 28, 28, 512)       1180160   \n",
      "_________________________________________________________________\n",
      "block4_conv2 (Conv2D)        (None, 28, 28, 512)       2359808   \n",
      "_________________________________________________________________\n",
      "block4_conv3 (Conv2D)        (None, 28, 28, 512)       2359808   \n",
      "_________________________________________________________________\n",
      "block4_pool (MaxPooling2D)   (None, 14, 14, 512)       0         \n",
      "_________________________________________________________________\n",
      "block5_conv1 (Conv2D)        (None, 14, 14, 512)       2359808   \n",
      "_________________________________________________________________\n",
      "block5_conv2 (Conv2D)        (None, 14, 14, 512)       2359808   \n",
      "_________________________________________________________________\n",
      "block5_conv3 (Conv2D)        (None, 14, 14, 512)       2359808   \n",
      "_________________________________________________________________\n",
      "block5_pool (MaxPooling2D)   (None, 7, 7, 512)         0         \n",
      "_________________________________________________________________\n",
      "sequential (Sequential)      (None, 1)                 3228033   \n",
      "=================================================================\n",
      "Total params: 17,942,721\n",
      "Trainable params: 3,228,033\n",
      "Non-trainable params: 14,714,688\n",
      "_________________________________________________________________\n"
     ]
    }
   ],
   "source": [
    "base_model = VGG16(include_top=False, input_shape=(224, 224, 3))\n",
    "\n",
    "# mark loaded layers as not trainable\n",
    "for layer in base_model.layers:\n",
    "    layer.trainable = False\n",
    "\n",
    "model_top = Sequential()\n",
    "model_top.add(Flatten()),  \n",
    "model_top.add(Dense(128, activation='relu'))\n",
    "model_top.add(Dropout(0.2))\n",
    "model_top.add(Dense(128, activation='relu'))\n",
    "model_top.add(Dropout(0.2))\n",
    "model_top.add(Dense(1, activation='sigmoid')) \n",
    "\n",
    "classificador = Model(inputs=base_model.input, outputs=model_top(base_model.output))\n",
    "      \n",
    "opt = SGD(lr=0.001, momentum=0.9)\n",
    "\n",
    "classificador.compile(\n",
    "    loss='binary_crossentropy', # binary_crossentropy porque estamos trabalhando com um problema de 2 classes\n",
    "    optimizer='adam', # sgd ou adam\n",
    "    metrics=['accuracy']\n",
    ")\n",
    "\n",
    "classificador.summary()"
   ]
  },
  {
   "cell_type": "markdown",
   "metadata": {},
   "source": [
    "### Criar o gerador de imagens\n",
    "O Gerador é responsável por ler as imagens e fornecer para nossa rede neural, podendo ou não realziar data augmentation\n",
    "\n",
    "https://keras.io/preprocessing/image/"
   ]
  },
  {
   "cell_type": "code",
   "execution_count": 3,
   "metadata": {},
   "outputs": [],
   "source": [
    "gerador_treinamento = ImageDataGenerator(\n",
    "    rescale = 1./255,\n",
    "    rotation_range = 7,\n",
    "    horizontal_flip = True,\n",
    "    shear_range = 0.2,\n",
    "    height_shift_range = 0.07,\n",
    "    zoom_range = 0.2)\n",
    "\n",
    "gerador_teste = ImageDataGenerator(rescale = 1./255)"
   ]
  },
  {
   "cell_type": "code",
   "execution_count": 4,
   "metadata": {},
   "outputs": [
    {
     "name": "stdout",
     "output_type": "stream",
     "text": [
      "Found 4000 images belonging to 2 classes.\n",
      "Found 1000 images belonging to 2 classes.\n"
     ]
    }
   ],
   "source": [
    "base_treinamento = gerador_treinamento.flow_from_directory(\n",
    "    directory='datasets/dogs_vs_cats/train',\n",
    "    target_size = (224, 224),\n",
    "    batch_size = 128,\n",
    "    class_mode = 'binary')\n",
    "\n",
    "base_teste = gerador_teste.flow_from_directory(\n",
    "    directory='datasets/dogs_vs_cats/test',\n",
    "    target_size = (224, 224),\n",
    "    batch_size = 128,\n",
    "    class_mode = 'binary',\n",
    "    shuffle=False)"
   ]
  },
  {
   "cell_type": "markdown",
   "metadata": {},
   "source": [
    "### Treina a rede neural\n",
    "https://keras.io/models/sequential/"
   ]
  },
  {
   "cell_type": "code",
   "execution_count": 5,
   "metadata": {},
   "outputs": [
    {
     "name": "stdout",
     "output_type": "stream",
     "text": [
      "WARNING:tensorflow:sample_weight modes were coerced from\n",
      "  ...\n",
      "    to  \n",
      "  ['...']\n",
      "WARNING:tensorflow:sample_weight modes were coerced from\n",
      "  ...\n",
      "    to  \n",
      "  ['...']\n",
      "Train for 32 steps, validate for 8 steps\n",
      "Epoch 1/10\n",
      "32/32 [==============================] - 46s 1s/step - loss: 0.7355 - accuracy: 0.6710 - val_loss: 0.3129 - val_accuracy: 0.8670\n",
      "Epoch 2/10\n",
      "32/32 [==============================] - 40s 1s/step - loss: 0.3065 - accuracy: 0.8752 - val_loss: 0.2225 - val_accuracy: 0.9060\n",
      "Epoch 3/10\n",
      "32/32 [==============================] - 40s 1s/step - loss: 0.2459 - accuracy: 0.9038 - val_loss: 0.2216 - val_accuracy: 0.9040\n",
      "Epoch 4/10\n",
      "32/32 [==============================] - 40s 1s/step - loss: 0.2222 - accuracy: 0.9045 - val_loss: 0.1922 - val_accuracy: 0.9190\n",
      "Epoch 5/10\n",
      "32/32 [==============================] - 40s 1s/step - loss: 0.1977 - accuracy: 0.9175 - val_loss: 0.1905 - val_accuracy: 0.9180\n",
      "Epoch 6/10\n",
      "32/32 [==============================] - 40s 1s/step - loss: 0.1807 - accuracy: 0.9280 - val_loss: 0.1905 - val_accuracy: 0.9260\n",
      "Epoch 7/10\n",
      "32/32 [==============================] - 41s 1s/step - loss: 0.1488 - accuracy: 0.9427 - val_loss: 0.2194 - val_accuracy: 0.9160\n",
      "Epoch 8/10\n",
      "32/32 [==============================] - 40s 1s/step - loss: 0.1684 - accuracy: 0.9302 - val_loss: 0.1854 - val_accuracy: 0.9300\n",
      "Epoch 9/10\n",
      "32/32 [==============================] - 40s 1s/step - loss: 0.1737 - accuracy: 0.9302 - val_loss: 0.1972 - val_accuracy: 0.9220\n",
      "Epoch 10/10\n",
      "32/32 [==============================] - 40s 1s/step - loss: 0.1459 - accuracy: 0.9375 - val_loss: 0.2103 - val_accuracy: 0.9280\n"
     ]
    }
   ],
   "source": [
    "history = classificador.fit(\n",
    "    x = base_treinamento,\n",
    "    validation_data = base_teste,\n",
    "    epochs = 10\n",
    ")"
   ]
  },
  {
   "cell_type": "code",
   "execution_count": 6,
   "metadata": {},
   "outputs": [
    {
     "data": {
      "image/png": "[encoded data removed]",
      "text/plain": [
       "<Figure size 432x288 with 1 Axes>"
      ]
     },
     "metadata": {
      "needs_background": "light"
     },
     "output_type": "display_data"
    },
    {
     "data": {
      "image/png": "[encoded data removed]",
      "text/plain": [
       "<Figure size 432x288 with 1 Axes>"
      ]
     },
     "metadata": {
      "needs_background": "light"
     },
     "output_type": "display_data"
    }
   ],
   "source": [
    "# summarize history for accuracy\n",
    "plt.plot(history.history['accuracy'])\n",
    "plt.plot(history.history['val_accuracy'])\n",
    "plt.title('model accuracy')\n",
    "plt.ylabel('accuracy')\n",
    "plt.xlabel('epoch')\n",
    "plt.legend(['train', 'test'], loc='upper left')\n",
    "plt.show()\n",
    "# summarize history for loss\n",
    "plt.plot(history.history['loss'])\n",
    "plt.plot(history.history['val_loss'])\n",
    "plt.title('model loss')\n",
    "plt.ylabel('loss')\n",
    "plt.xlabel('epoch')\n",
    "plt.legend(['train', 'test'], loc='upper left')\n",
    "plt.show()"
   ]
  },
  {
   "cell_type": "markdown",
   "metadata": {},
   "source": [
    "### Avaliar o modelo"
   ]
  },
  {
   "cell_type": "code",
   "execution_count": 7,
   "metadata": {},
   "outputs": [
    {
     "name": "stdout",
     "output_type": "stream",
     "text": [
      "Probabilidade da primeira imagem pertencer a cada classe: [0.41904673]\n",
      "Classe da primeira imagem: [0.]\n",
      "\n",
      "\n"
     ]
    }
   ],
   "source": [
    "# Reinicia o gerador de imagem de teste \n",
    "base_teste.reset()\n",
    "\n",
    "# Faz a previsão dsa imagens de teste usando o modelo\n",
    "previsao = classificador.predict(base_teste)\n",
    "print(f\"Probabilidade da primeira imagem pertencer a cada classe: {previsao[0]}\")\n",
    "\n",
    "# Retorna a classe com maior probabilidade\n",
    "previsao = np.around(previsao)\n",
    "print(f\"Classe da primeira imagem: {previsao[0]}\\n\\n\")"
   ]
  },
  {
   "cell_type": "code",
   "execution_count": 8,
   "metadata": {},
   "outputs": [
    {
     "name": "stdout",
     "output_type": "stream",
     "text": [
      "Confusion Matrix\n",
      "[[458  42]\n",
      " [ 30 470]]\n",
      "\n",
      "Accuracy 0.928\n",
      "\n",
      "Balanced Accuracy 0.9279999999999999\n",
      "\n",
      "Classification Report\n",
      "              precision    recall  f1-score   support\n",
      "\n",
      "         cat       0.94      0.92      0.93       500\n",
      "         dog       0.92      0.94      0.93       500\n",
      "\n",
      "   micro avg       0.93      0.93      0.93      1000\n",
      "   macro avg       0.93      0.93      0.93      1000\n",
      "weighted avg       0.93      0.93      0.93      1000\n",
      "\n"
     ]
    }
   ],
   "source": [
    "print('Confusion Matrix')\n",
    "print(confusion_matrix(base_teste.classes, previsao))\n",
    "\n",
    "print(f'\\nAccuracy {accuracy_score(base_teste.classes, previsao)}')\n",
    "\n",
    "print(f'\\nBalanced Accuracy {balanced_accuracy_score(base_teste.classes, previsao)}')\n",
    "\n",
    "print('\\nClassification Report')\n",
    "print(classification_report(base_teste.classes, previsao, target_names=base_treinamento.class_indices.keys()))"
   ]
  },
  {
   "cell_type": "markdown",
   "metadata": {},
   "source": [
    "### Salvar a rede neural"
   ]
  },
  {
   "cell_type": "code",
   "execution_count": 9,
   "metadata": {},
   "outputs": [],
   "source": [
    "classificador_json = classificador.to_json()\n",
    "with open('classificador_vgg16_dog_cat.json', 'w') as json_file:\n",
    "    json_file.write(classificador_json)\n",
    "classificador.save_weights('classificador_vgg16_dog_cat.h5')"
   ]
  },
  {
   "cell_type": "markdown",
   "metadata": {},
   "source": [
    "### Ler a rede neural salva"
   ]
  },
  {
   "cell_type": "code",
   "execution_count": 10,
   "metadata": {},
   "outputs": [],
   "source": [
    "arquivo = open('classificador_vgg16_dog_cat.json', 'r')\n",
    "estrutura_rede = arquivo.read()\n",
    "arquivo.close()\n",
    "\n",
    "classificador = model_from_json(estrutura_rede)\n",
    "classificador.load_weights('classificador_vgg16_dog_cat.h5')"
   ]
  },
  {
   "cell_type": "code",
   "execution_count": 11,
   "metadata": {},
   "outputs": [
    {
     "name": "stdout",
     "output_type": "stream",
     "text": [
      "Model: \"model\"\n",
      "_________________________________________________________________\n",
      "Layer (type)                 Output Shape              Param #   \n",
      "=================================================================\n",
      "input_1 (InputLayer)         [(None, 224, 224, 3)]     0         \n",
      "_________________________________________________________________\n",
      "block1_conv1 (Conv2D)        (None, 224, 224, 64)      1792      \n",
      "_________________________________________________________________\n",
      "block1_conv2 (Conv2D)        (None, 224, 224, 64)      36928     \n",
      "_________________________________________________________________\n",
      "block1_pool (MaxPooling2D)   (None, 112, 112, 64)      0         \n",
      "_________________________________________________________________\n",
      "block2_conv1 (Conv2D)        (None, 112, 112, 128)     73856     \n",
      "_________________________________________________________________\n",
      "block2_conv2 (Conv2D)        (None, 112, 112, 128)     147584    \n",
      "_________________________________________________________________\n",
      "block2_pool (MaxPooling2D)   (None, 56, 56, 128)       0         \n",
      "_________________________________________________________________\n",
      "block3_conv1 (Conv2D)        (None, 56, 56, 256)       295168    \n",
      "_________________________________________________________________\n",
      "block3_conv2 (Conv2D)        (None, 56, 56, 256)       590080    \n",
      "_________________________________________________________________\n",
      "block3_conv3 (Conv2D)        (None, 56, 56, 256)       590080    \n",
      "_________________________________________________________________\n",
      "block3_pool (MaxPooling2D)   (None, 28, 28, 256)       0         \n",
      "_________________________________________________________________\n",
      "block4_conv1 (Conv2D)        (None, 28, 28, 512)       1180160   \n",
      "_________________________________________________________________\n",
      "block4_conv2 (Conv2D)        (None, 28, 28, 512)       2359808   \n",
      "_________________________________________________________________\n",
      "block4_conv3 (Conv2D)        (None, 28, 28, 512)       2359808   \n",
      "_________________________________________________________________\n",
      "block4_pool (MaxPooling2D)   (None, 14, 14, 512)       0         \n",
      "_________________________________________________________________\n",
      "block5_conv1 (Conv2D)        (None, 14, 14, 512)       2359808   \n",
      "_________________________________________________________________\n",
      "block5_conv2 (Conv2D)        (None, 14, 14, 512)       2359808   \n",
      "_________________________________________________________________\n",
      "block5_conv3 (Conv2D)        (None, 14, 14, 512)       2359808   \n",
      "_________________________________________________________________\n",
      "block5_pool (MaxPooling2D)   (None, 7, 7, 512)         0         \n",
      "_________________________________________________________________\n",
      "sequential (Sequential)      (None, 1)                 3228033   \n",
      "=================================================================\n",
      "Total params: 17,942,721\n",
      "Trainable params: 3,228,033\n",
      "Non-trainable params: 14,714,688\n",
      "_________________________________________________________________\n"
     ]
    }
   ],
   "source": [
    "classificador.summary()"
   ]
  },
  {
   "cell_type": "markdown",
   "metadata": {},
   "source": [
    "### Testar com uma imagem nova"
   ]
  },
  {
   "cell_type": "code",
   "execution_count": 12,
   "metadata": {},
   "outputs": [
    {
     "name": "stdout",
     "output_type": "stream",
     "text": [
      "[[0.9992805]]\n",
      "0\n"
     ]
    },
    {
     "data": {
      "text/plain": [
       "{'cat': 0, 'dog': 1}"
      ]
     },
     "execution_count": 12,
     "metadata": {},
     "output_type": "execute_result"
    }
   ],
   "source": [
    "## Ler a imagem\n",
    "\n",
    "imagem_teste = image.load_img(\n",
    "    path='datasets/dogs_vs_cats/test/dog/dog.3500.jpg',\n",
    "    target_size = (224,224)\n",
    ")\n",
    "\n",
    "#imagem_teste.show()\n",
    "\n",
    "## Converter para matriz de números\n",
    "imagem_teste = image.img_to_array(imagem_teste)\n",
    "\n",
    "## Deixar os valores dos pixels [0,1], igual feito no rescale do ImageDataGenerator\n",
    "imagem_teste /= 255\n",
    "imagem_teste = np.expand_dims(imagem_teste, axis = 0)\n",
    "\n",
    "previsao = classificador.predict(imagem_teste)\n",
    "print(previsao)\n",
    "print(np.argmax(previsao))\n",
    "\n",
    "base_treinamento.class_indices"
   ]
  },
  {
   "cell_type": "code",
   "execution_count": null,
   "metadata": {},
   "outputs": [],
   "source": []
  }
 ],
 "metadata": {
  "kernelspec": {
   "display_name": "Python 3",
   "language": "python",
   "name": "python3"
  },
  "language_info": {
   "codemirror_mode": {
    "name": "ipython",
    "version": 3
   },
   "file_extension": ".py",
   "mimetype": "text/x-python",
   "name": "python",
   "nbconvert_exporter": "python",
   "pygments_lexer": "ipython3",
   "version": "3.7.6"
  }
 },
 "nbformat": 4,
 "nbformat_minor": 4
}
